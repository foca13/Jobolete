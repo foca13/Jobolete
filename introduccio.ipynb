{
 "cells": [
  {
   "cell_type": "markdown",
   "metadata": {},
   "source": [
    "<h1><u>Joboleté</u></h1>"
   ]
  },
  {
   "cell_type": "markdown",
   "metadata": {},
   "source": [
    "L'1 de Desembre de 2019 vam anar amb uns amics a fer una excursió i collir bolets pel Berguedà. Durant el trajecte en cotxe de camí cap allà vam parlar de molts temes diferents, entre ells el *deep learning*. Coincidint que anàvem a buscar bolets, un amic meu i jo vam començar a discutir sobre la possibilitat de fer servir una xarxa neuronal per detectar l'espècie a la qual pertany un bolet a partir d'una fotografia. Jo deia que era relativament fàcil de fer i ell deia que no, que els bolets s'assemblen molt els uns als altres i que sovint es sobreestimaven les capacitats del *deep learning*. No entraré a discutir la veracitat d'aquesta frase, però sí que em veia capaç de ser jo mateix qui programés i entrenés la xarxa neuronal en qüestió. Finalment li vaig dir al meu amic: \"Faré una 'app' per detectar espècies de bolets i l'anomenaré *Joboleté*\", fruit de la combinació entre la paraula 'bolet' i el seu cognom. Entre els amics ens ho vam prendre inicialment com una broma, però jo vaig pensar que seria un exercici interessant intentar desenvolupar la 'app' en un futur, o almenys entrenar una xarxa neuronal que assolís un grau satisfactori de fiabilitat a l'hora de predir espècies de bolets."
   ]
  },
  {
   "cell_type": "markdown",
   "metadata": {},
   "source": [
    "Durant el confinament de la primavera del 2020 vaig trobar temps per començar a mirar-me una mica el projecte. Segurament la millor opció hagués sigut contactar experts en micologia des de l'inici, però primer vaig decidir veure fins on podia arribar pel meu compte. Abans de començar a mirar-me res, però, necessitava un esbós mental del resultat que volia obtenir. Resumint-ho de manera informal: \"Una 'app' amb la qual puguis fer-li una foto a un bolet i et digui de quina espècie de bolet es tracta, si és comestible o no i, en cas que ho sigui, suggerir alguna recepta\" (aquesta última idea va sorgir mentre caminàvem pel bosc i va ser suggerència d'un dels meus amics). Per no complicar-ho massa, vaig decidir considerar només les espècies de bolets que es troben a Catalunya.\n",
    "\n",
    "Així doncs, vaig dividir el projecte en **5 fases** diferents:\n",
    "1. Trobar els noms de les espècies de bolets presents a Catalunya\n",
    "2. Descarregar-me totes les imatges disponibles de cada espècie de bolet\n",
    "3. Processar les imatges, cosa que inclou netegar i possiblement etiquetar i utilitzar tècniques de *data augmentation* per obtenir el millor *dataset* possible per entrenar la xarxa neuronal\n",
    "4. Dissenyar i entrenar xarxes neuronals amb el *training set* i quedar-me amb la que obtingui millors resultats al *test set*\n",
    "5. Desenvolupar la resta de la 'app'"
   ]
  },
  {
   "cell_type": "markdown",
   "metadata": {},
   "source": [
    "La primavera de l'any passat vaig arribar gairebé al final de la fase 2. Aleshores vaig escriure el codi de qualsevol manera per tal d'aconseguir ràpidament les imatges de bolets, que era el que realment m'interessava per poder entrenar la meva xarxa neuronal. Vaig arribar a descarregar-me algunes imatges (tot i que moltes menys de les que volia) i vaig estar experimentant provant d'entrenar una ResNet18 i una VGG11 al Google Colab sense èxit. Com que en aquell moment no podia dedicar-li el temps suficient per tirar endavant el projecte, vaig optar per posposar-lo.\n",
    "\n",
    "Ara que torno a tenir temps he decidit tornar a mirar-me'l i posar-hi una mica d'ordre. He de reconèixer que al principi va costar recordar-me'n de com funcionaven exactament algunes de les coses que vaig fer servir fa temps. Tot i així, he intentat netejar, modularitzar i comentar el codi en la mesura que ha estat possible, deixant les coses que he considerat que no valia la pena canviar. El resultat és (...), però tot això ja ho anirem veient. El més probable és que no sigui ara quan acabi el projecte ni tan sols en un futur proper, però tenia pendent organitzar i aconseguir almenys descarregar-me totes les imatges de bolets catalans a les quals pugui accedir. A més a més, si arribo al final de la fase 2 sempre puc tornar al projecte i començar des d'allà, sense estar subjecte als canvis que hi pugui haver a les webs de les quals obtenc la informació. A continuació explico com he anat desenvolupant els scripts per aconseguir els meus objectius de cada una de les fases."
   ]
  },
  {
   "cell_type": "markdown",
   "metadata": {},
   "source": [
    "<h3>Trobant els noms de les espècies de bolets presents a Catalunya<\\h3>"
   ]
  },
  {
   "cell_type": "markdown",
   "metadata": {},
   "source": [
    "Vaig començar buscant només espècies de bolets comestibles, ja que vaig pensar que tenir-los separats dels verinosos em facilitaria la feina més endavant. Una forma ràpida de trobar els noms de bolets és cercant \"bolets comestibles\" o \"bolets comestibles Catalunya\" a Google. Hi ha diverses pàgines de bolets on surten les espècies més freqüents a Catalunya. Segurament anant un per un i apuntat els noms de cada pàgina manualment hagués acabat abans, però vaig pensar que seria més entretingut fer un programa que trobés els noms dels bolets automàticament a partir de les *URL* de cada pàgina. Com que no havia fet mai *web scrapping*, vaig buscar quines llibreries de Python s'utilitzen freqüentment per aquest tipus de tasques. En vaig trobar tres que són relativament senzilles d'utilitzar: *Requests*, *Beautiful Soup* i *Selenium*. A continuació explico el procediment per obtenir els noms dels bolets en català i en llatí."
   ]
  },
  {
   "cell_type": "markdown",
   "metadata": {},
   "source": [
    "Comencem important les llibreries necessàries per fer *web scrapping* i altres llibreries i mòduls que també utilitzarem:"
   ]
  },
  {
   "cell_type": "code",
   "execution_count": 1,
   "metadata": {},
   "outputs": [],
   "source": [
    "import pandas as pd\n",
    "import requests\n",
    "from bs4 import BeautifulSoup\n",
    "import scrap\n",
    "from utils import save_content_to_file"
   ]
  },
  {
   "cell_type": "markdown",
   "metadata": {},
   "source": [
    "Per obtenir l'HTML d'una pàgina web fem servir *requests.get(url)*, el qual ens retorna un objecte Response. Si l'status de l'objecte Response és 200 vol dir que la nostra cerca ha estat existosa. Per contra, si l'status és de la forma 4XX vol dir que hi ha hagut un problema amb el client, i si l'status és de la forma 5XX vol dir que hi ha hagut un problema amb el servidor."
   ]
  },
  {
   "cell_type": "code",
   "execution_count": 49,
   "metadata": {},
   "outputs": [
    {
     "name": "stdout",
     "output_type": "stream",
     "text": [
      "<class 'requests.models.Response'>\n",
      "200\n"
     ]
    }
   ],
   "source": [
    "response = requests.get('http://mas.regio7.cat/bolets/especies.html')\n",
    "print(type(response))\n",
    "print(response.status_code)"
   ]
  },
  {
   "cell_type": "markdown",
   "metadata": {},
   "source": [
    "Tot bé. Amb l'objecte Response podem obtenir el text de l'HTML amb *response.text*. El següent pas és fer el que en anglès s'anomena *parsing*, que consisteix a fer el text sigui més llegible i ens permet accedir a la informació que ens interessa més fàcilment. Per fer-ho utilitzem Beautiful Soup:"
   ]
  },
  {
   "cell_type": "code",
   "execution_count": 59,
   "metadata": {},
   "outputs": [],
   "source": [
    "soup = BeautifulSoup(response.text, parser = 'lxml')"
   ]
  },
  {
   "cell_type": "markdown",
   "metadata": {},
   "source": [
    "Per tal de trobar els noms dels bolets necessitem saber les etiquetes dels elements de l'HTML que els contenen. Una manera ràpida de fer-ho és anant a la pagina web en qüestió, fent click amb el botó secundari a qualsevol lloc de la pàgina i clicant *inspect* (o *inspeccionar*) tal i com mostra la següent figura (esquerra). Al navegador ens apareix un panell DOM (sigles per Document Object Model en anglès) i en aquest cas clicarem a la icona enquadrada en vermell tal i com mostra la figura de la dreta. "
   ]
  },
  {
   "cell_type": "markdown",
   "metadata": {},
   "source": [
    "![Figure 1: Inspect web example](inspect_web.png \"Inspect web example\")"
   ]
  },
  {
   "cell_type": "markdown",
   "metadata": {},
   "source": [
    "Si passem el cursor per sobre el nom del bolet (o de qualsevol element de la pàgina) se'ns apareix al panell l'etiqueta exacta on es troba l'element, juntament amb totes les etiquetes 'pare' que queden per sobre. En aquest cas tots els noms de bolets es troben a la taula amb *class=\"blog\"* i etiqueta *td* amb *class=\"contentheading\"*:"
   ]
  },
  {
   "cell_type": "markdown",
   "metadata": {},
   "source": [
    "![Figure 2: Find HTML tag](find_names.png \"Find HTML tag\")"
   ]
  },
  {
   "cell_type": "markdown",
   "metadata": {},
   "source": [
    "Un cop sabem les etiquetes dels elements que volem buscar podem trobar-los fent servir *soup.find* i *soup.findAll* o *soup.find_all*:"
   ]
  },
  {
   "cell_type": "code",
   "execution_count": 60,
   "metadata": {},
   "outputs": [
    {
     "name": "stdout",
     "output_type": "stream",
     "text": [
      "['Apagallum', 'Camagroc', 'Fredolic', 'Llora', 'Múrgola', 'Rovelló', 'Bolet de tinta', 'Camperol', 'Llenega blanca', 'Marçot', 'Pinetell', 'Trompeta', 'Cama de perdiu', 'Cep', 'Llenega negra', 'Moixernó', 'Reig', 'Cama-sec', 'Escarlet', 'Llengua de Bou', 'Molleric', 'Rossinyol']\n"
     ]
    }
   ],
   "source": [
    "text = soup.find('table', {'class': 'blog'}).findAll('td', {'class': 'contentheading'})\n",
    "names = [name.text.replace('\\n','').replace('\\t','') for name in text]\n",
    "print(names)"
   ]
  },
  {
   "cell_type": "markdown",
   "metadata": {},
   "source": [
    "La funció *findAll* retorna un objecte ResultSet sobre el qual podem iterar. Podem obtenir el contingut de cada un dels elements fent servir *.text*, que ens retorna una string. En algunes pàgines webs aquesta string és exactament el nom del bolet que estem buscant, però en d'altres s'ha de netejar el text. En aquest cas hem de treure els '\\n' i els '\\t'. La descripció exacta de què fan les funcions *find* i *findAll* la podem trobar a la documentació de Beautiful Soup [1]. \n",
    "\n",
    "A *scrap.py* he definit vàries funcions que agrupen alguns d'aquests passos per simplificar una mica el codi, però la funcionalitat és essencialment la mateixa. La funció *find_items* és equivalent a la primera línia de codi de la cel·la anterior i la funció *find_names* és equivalent a la segona. Ambdós funcions admeten certa flexibilitat, cosa que ens permet *scrapejar* webs que utilitzen etiquetes diferents utilitzant el mateix codi.\n",
    "\n",
    "L'arxiu *url comestibles* a la carpeta *Noms* conté un Pandas *dataframe* amb tota la informació necessària per obtenir els noms dels bolets de 4 pàgines web diferents. El *dataframe* està 'serialitzat' amb Pickle, així que l'obrim de la seguent manera:"
   ]
  },
  {
   "cell_type": "code",
   "execution_count": 50,
   "metadata": {},
   "outputs": [],
   "source": [
    "df = pd.read_pickle('Noms/url comestibles')"
   ]
  },
  {
   "cell_type": "markdown",
   "metadata": {},
   "source": [
    "I en podem veure el contingut:"
   ]
  },
  {
   "cell_type": "code",
   "execution_count": 41,
   "metadata": {},
   "outputs": [
    {
     "data": {
      "text/html": [
       "<div>\n",
       "<style scoped>\n",
       "    .dataframe tbody tr th:only-of-type {\n",
       "        vertical-align: middle;\n",
       "    }\n",
       "\n",
       "    .dataframe tbody tr th {\n",
       "        vertical-align: top;\n",
       "    }\n",
       "\n",
       "    .dataframe thead th {\n",
       "        text-align: right;\n",
       "    }\n",
       "</style>\n",
       "<table border=\"1\" class=\"dataframe\">\n",
       "  <thead>\n",
       "    <tr style=\"text-align: right;\">\n",
       "      <th></th>\n",
       "      <th>url</th>\n",
       "      <th>comestible</th>\n",
       "      <th>tag id</th>\n",
       "      <th>grafia</th>\n",
       "      <th>tag especific</th>\n",
       "      <th>replace</th>\n",
       "    </tr>\n",
       "  </thead>\n",
       "  <tbody>\n",
       "    <tr>\n",
       "      <th>0</th>\n",
       "      <td>https://ca.wikipedia.org/wiki/Categoria:Bolets...</td>\n",
       "      <td>Si</td>\n",
       "      <td>(div, {'class': 'mw-category'})</td>\n",
       "      <td>m</td>\n",
       "      <td>a</td>\n",
       "      <td>()</td>\n",
       "    </tr>\n",
       "    <tr>\n",
       "      <th>1</th>\n",
       "      <td>http://mas.regio7.cat/bolets/especies.html</td>\n",
       "      <td>Si</td>\n",
       "      <td>(table, {'class': 'blog'})</td>\n",
       "      <td>M</td>\n",
       "      <td>(td, {'class': 'contentheading'})</td>\n",
       "      <td>(\\n, \\t)</td>\n",
       "    </tr>\n",
       "    <tr>\n",
       "      <th>2</th>\n",
       "      <td>https://web.gencat.cat/ca/actualitat/reportatg...</td>\n",
       "      <td>Si</td>\n",
       "      <td>(div, {'class': 'llistat_enllacos_filet especi...</td>\n",
       "      <td>m</td>\n",
       "      <td>a</td>\n",
       "      <td>()</td>\n",
       "    </tr>\n",
       "    <tr>\n",
       "      <th>3</th>\n",
       "      <td>https://bolets.info/llistat-bolets/bolets-bons/</td>\n",
       "      <td>Si</td>\n",
       "      <td>(div, {'id': 'main-area'})</td>\n",
       "      <td>m</td>\n",
       "      <td>[h2]</td>\n",
       "      <td>()</td>\n",
       "    </tr>\n",
       "  </tbody>\n",
       "</table>\n",
       "</div>"
      ],
      "text/plain": [
       "                                                 url comestible  \\\n",
       "0  https://ca.wikipedia.org/wiki/Categoria:Bolets...         Si   \n",
       "1         http://mas.regio7.cat/bolets/especies.html         Si   \n",
       "2  https://web.gencat.cat/ca/actualitat/reportatg...         Si   \n",
       "3    https://bolets.info/llistat-bolets/bolets-bons/         Si   \n",
       "\n",
       "                                              tag id grafia  \\\n",
       "0                    (div, {'class': 'mw-category'})      m   \n",
       "1                         (table, {'class': 'blog'})      M   \n",
       "2  (div, {'class': 'llistat_enllacos_filet especi...      m   \n",
       "3                         (div, {'id': 'main-area'})      m   \n",
       "\n",
       "                       tag especific   replace  \n",
       "0                                  a        ()  \n",
       "1  (td, {'class': 'contentheading'})  (\\n, \\t)  \n",
       "2                                  a        ()  \n",
       "3                               [h2]        ()  "
      ]
     },
     "execution_count": 41,
     "metadata": {},
     "output_type": "execute_result"
    }
   ],
   "source": [
    "df"
   ]
  },
  {
   "cell_type": "markdown",
   "metadata": {},
   "source": [
    "Amb aquesta informació podem trobar els noms dels bolets de cada una de les pàgines i agrupar-los fàcilment:"
   ]
  },
  {
   "cell_type": "code",
   "execution_count": 42,
   "metadata": {},
   "outputs": [],
   "source": [
    "bolets_comestibles = []\n",
    "\n",
    "for idx in df.index:\n",
    "    soup = BeautifulSoup(requests.get(df['url'][idx]).text, 'lxml')\n",
    "    text = scrap.find_items(soup, df['tag id'][idx], df['tag especific'][idx], case=df['grafia'][idx])\n",
    "    names = scrap.get_names(text, replacements=df['replace'][idx])\n",
    "    bolets_comestibles = list(set(bolets_comestibles) | set(names))\n",
    "    \n",
    "print(bolets_comestibles[:10])\n",
    "print('')\n",
    "print(len(bolets_comestibles))"
   ]
  },
  {
   "cell_type": "markdown",
   "metadata": {},
   "source": [
    "Com podem veure hem trobat 137 instàncies que coincideixen amb les etiquetes que hem buscat. Aquestes instàncies contenen els noms dels bolets en català i són les que farem servir per trobar els noms en llatí. Aquesta llista no és la definitiva, ja que s'han de corregir algunes coses. Els noms repetits els treurem més endavant, però hi ha altres coses que d'entrada no ens interessen com per exemple 'gastronomia de bolets'. Alguns noms estan repetits més a més li afegirem tres espècies més:  i d'altres no ens interessen, com és el cas de 'gastronomia de bolets'. Alguns noms amb lletres com la *ç* o amb accents oberts generaven problemes a l'hora de A més a més, (...) Aquests problemes els vaig veure la primera vegada que vaig escriure el codi i aleshores vaig decidir fer una llista amb les excepcions de bolets que causaven problemes. Aquesta llista la podem trobar al directori *Noms/excepcions comestibles catala.txt* i els corresponents noms en llatí a *Noms/excepcions comestibles llati.txt*. Des que he arreglat una mica el codi alguns d'aquests noms ja no causen els mateixos problemes, però d'altres segueixen donant errors. Al final he optat per deixar la llista d'excepcions tal i com estava, ja que sé que (...) El procediment per obtenir la resta de noms en llatí "
   ]
  },
  {
   "cell_type": "code",
   "execution_count": 102,
   "metadata": {},
   "outputs": [
    {
     "ename": "NameError",
     "evalue": "name 'read_json_file' is not defined",
     "output_type": "error",
     "traceback": [
      "\u001b[0;31m---------------------------------------------------------------------------\u001b[0m",
      "\u001b[0;31mNameError\u001b[0m                                 Traceback (most recent call last)",
      "\u001b[0;32m<ipython-input-102-2f506becd440>\u001b[0m in \u001b[0;36m<module>\u001b[0;34m\u001b[0m\n\u001b[1;32m      1\u001b[0m \u001b[0mbolets_comestibles\u001b[0m \u001b[0;34m+=\u001b[0m \u001b[0;34m[\u001b[0m\u001b[0;34m'Bolet de tinta'\u001b[0m\u001b[0;34m,\u001b[0m\u001b[0;34m'Mollerons'\u001b[0m\u001b[0;34m,\u001b[0m\u001b[0;34m'Cogomella'\u001b[0m\u001b[0;34m]\u001b[0m\u001b[0;34m\u001b[0m\u001b[0;34m\u001b[0m\u001b[0m\n\u001b[1;32m      2\u001b[0m \u001b[0;34m\u001b[0m\u001b[0m\n\u001b[0;32m----> 3\u001b[0;31m \u001b[0mexcepcions_catala\u001b[0m \u001b[0;34m=\u001b[0m \u001b[0mread_json_file\u001b[0m\u001b[0;34m(\u001b[0m\u001b[0;34m'Noms/excepcions comestibles catala.txt'\u001b[0m\u001b[0;34m,\u001b[0m \u001b[0;34m'r'\u001b[0m\u001b[0;34m)\u001b[0m\u001b[0;34m\u001b[0m\u001b[0;34m\u001b[0m\u001b[0m\n\u001b[0m\u001b[1;32m      4\u001b[0m \u001b[0mexcepcions_llati\u001b[0m \u001b[0;34m=\u001b[0m \u001b[0mread_json_file\u001b[0m\u001b[0;34m(\u001b[0m\u001b[0;34m'Noms/excepcions comestibles llati.txt'\u001b[0m\u001b[0;34m,\u001b[0m \u001b[0;34m'r'\u001b[0m\u001b[0;34m)\u001b[0m\u001b[0;34m\u001b[0m\u001b[0;34m\u001b[0m\u001b[0m\n\u001b[1;32m      5\u001b[0m \u001b[0;34m\u001b[0m\u001b[0m\n",
      "\u001b[0;31mNameError\u001b[0m: name 'read_json_file' is not defined"
     ]
    }
   ],
   "source": [
    "bolets_comestibles += ['Bolet de tinta','Mollerons','Cogomella']\n",
    "\n",
    "excepcions_catala = read_json_file('Noms/excepcions comestibles catala.txt', 'r')\n",
    "excepcions_llati = read_json_file('Noms/excepcions comestibles llati.txt', 'r')\n",
    "\n",
    "for nom in excepcions_catala:\n",
    "    bolets_comestibles.remove(nom)\n",
    "\n",
    "# afegim la paraula 'bolet' al final de cada nom per facilitar la cerca a google. Per exemple, els bolets\n",
    "# 'Camperol' o 'Coliflor' són més fàcils de trobar si cerquem 'Camperol bolet' o 'Colifor bolet'. També es\n",
    "# podria afegir directament dins la funció get_latin_names\n",
    "cerca_bolets = [bolet + ' bolet' for bolet in bolets_comestibles]\n",
    "\n",
    "# aquests noms els traiem definitivament\n",
    "diferencies = ['Tòfona','Cigró','Gastronomia dels bolets','Llenega','Terfeziàcies']\n",
    "\n",
    "for nom in diferencies:\n",
    "    excepcions_catala.remove(nom)\n",
    "\n",
    "# busquem els noms en llatí\n",
    "noms_llati = scrap.get_latin_names(cerca_bolets)"
   ]
  },
  {
   "cell_type": "markdown",
   "metadata": {},
   "source": [
    "La funció *get_latin_names* fa servir Per exemple, quan busquem 'Fredolic bolet' "
   ]
  },
  {
   "cell_type": "markdown",
   "metadata": {},
   "source": [
    "Finalment hi afegim les excepcions que havíem retirat anteriorment i ho guardem tot en un diccionari, on les *keys* són els noms en llatí i els *values* són els noms en català. D'aquesta manera s'eliminaran automàticament totes les *keys* que estiguin repetides que corresponen al mateix bolet, ja que en llatí cada espècie s'anomena d'una única manera encara que en català es pugui anomenar de maneres diferents."
   ]
  },
  {
   "cell_type": "code",
   "execution_count": null,
   "metadata": {},
   "outputs": [],
   "source": [
    "bolets_comestibles += excepcions_catala\n",
    "noms_llati += excepcions_llati\n",
    "\n",
    "bolets = dict(zip(noms_llati, bolets_comestibles))\n",
    "\n",
    "# guardem el diccionari final com una string en un arxiu .txt\n",
    "save_content_to_file(str(bolets),\"Noms/bolets comestibles.txt\",\"w\")"
   ]
  },
  {
   "cell_type": "markdown",
   "metadata": {},
   "source": [
    "Aquesta és la nostra llista definitiva d'espècies de bolets comestibles de Catalunya:"
   ]
  },
  {
   "cell_type": "code",
   "execution_count": null,
   "metadata": {},
   "outputs": [],
   "source": [
    "print(bolets)"
   ]
  },
  {
   "cell_type": "markdown",
   "metadata": {},
   "source": [
    "Tot el que hem vist fins ara en aquest *notebook* es pot dur a terme simplement executant la funció *main* de l'script *scrap.py*. L'script en si no té molta utilitat més enllà de poder reutilitzar alguna funció, ja que els noms dels bolets comestibles els podem trobar en aquest repositori a *Noms/bolets comestibles.txt*. Si bé és cert que algunes parts de l'script són millorables i es podrien programar diferent per tal de poder-lo utilitzar per tasques similars, la funció de moment ja hem aconseguit el que volíem: tenir els noms en català i en llatí de les espècies de bolets comestibles que es troben a Catalunya.\n",
    "\n",
    "Els noms de les espècies de bolets verinosos a Catalunya els podem trobar a *Noms/bolets verinosos.txt* amb el mateix format que els bolets comestibles. Aquests noms els vaig buscar a part (abans d'organitzar el codi) fent servir els links que es troben al final d'aquest *notebook*, abans de les referències. Els anomenats 'bolets ambigus' són bolets que si es tracten adequadament són comestibles, però que en determinades situacions poden resultar tòxics. Els podem trobar a *Noms/bolets ambigus.txt*"
   ]
  },
  {
   "cell_type": "markdown",
   "metadata": {},
   "source": [
    "Ara que hem arribat al final de la fase 1 podem passar a la fase 2: descarregar-nos les imatges de bolets. El codi comentat de la fase 2 el podem trobar a l'arxiu *get_images.py*, i l'explicació detallada del codi estarà disponible a *imatges.ipynb*. Aquest cop espero aconseguir descarregar-me totes les imatges de bolets que trobi."
   ]
  },
  {
   "cell_type": "markdown",
   "metadata": {},
   "source": [
    "*Girona, 25 de Febrer del 2021*"
   ]
  },
  {
   "cell_type": "markdown",
   "metadata": {},
   "source": [
    "<h3>Links bolets verinosos:</h3>"
   ]
  },
  {
   "cell_type": "markdown",
   "metadata": {},
   "source": [
    "- https://www.rac1.cat/societat/20191011/47903298949/bolets-toxics-verinosos-habituals-catalunya-micologia-perill-agencia-catalana-de-seguretat-alimentaria.html\n",
    "- https://ca.wikipedia.org/wiki/Intoxicaci%C3%B3_per_bolets\n",
    "- https://web.gencat.cat/ca/actualitat/reportatges/temporada-de-bolets/bolets/bolets-toxics/\n",
    "- https://www.regio7.cat/bergueda/2017/09/25/bolets-mes-perilloses-que-existeixen/435569.html\n",
    "- https://bolets.info/llistat-bolets/bolets-sense-valor-culinari-i-toxics/\n",
    "- https://hermesalud.com/downloads/bolets-toxics---generalitat-de-catalunya.pdf"
   ]
  },
  {
   "cell_type": "markdown",
   "metadata": {},
   "source": [
    "<h3>Referències</h3>"
   ]
  },
  {
   "cell_type": "markdown",
   "metadata": {},
   "source": [
    "- [1] https://www.crummy.com/software/BeautifulSoup/bs4/doc/\n",
    "- [2] https://requests.readthedocs.io/en/master/"
   ]
  }
 ],
 "metadata": {
  "kernelspec": {
   "display_name": "Python 3",
   "language": "python",
   "name": "python3"
  },
  "language_info": {
   "codemirror_mode": {
    "name": "ipython",
    "version": 3
   },
   "file_extension": ".py",
   "mimetype": "text/x-python",
   "name": "python",
   "nbconvert_exporter": "python",
   "pygments_lexer": "ipython3",
   "version": "3.7.6"
  }
 },
 "nbformat": 4,
 "nbformat_minor": 4
}
